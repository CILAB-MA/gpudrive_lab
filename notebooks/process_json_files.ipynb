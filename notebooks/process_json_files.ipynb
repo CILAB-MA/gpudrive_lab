{
 "cells": [
  {
   "cell_type": "code",
   "execution_count": 1,
   "metadata": {},
   "outputs": [],
   "source": [
    "import os\n",
    "import yaml\n",
    "\n",
    "# Directory containing the files\n",
    "directory = '/home/emerge/gpudrive/formatted_json_v2_no_tl_train'"
   ]
  },
  {
   "cell_type": "code",
   "execution_count": 2,
   "metadata": {},
   "outputs": [
    {
     "name": "stdout",
     "output_type": "stream",
     "text": [
      "Dictionary has been saved to valid_json_2.yaml\n"
     ]
    }
   ],
   "source": [
    "# Dictionary to store the filenames\n",
    "file_dict = {}\n",
    "\n",
    "# Loop through all files in the directory\n",
    "for filename in os.listdir(directory):\n",
    "    if filename.startswith(\"tfrecord\") and filename.endswith(\".json\"):\n",
    "        file_dict[filename] = []\n",
    "\n",
    "# Output file\n",
    "output_file = 'valid_json_2.yaml'\n",
    "\n",
    "# Custom YAML dumper to force double quotes\n",
    "class DoubleQuotedDumper(yaml.Dumper):\n",
    "    def represent_scalar(self, tag, value, style=None):\n",
    "        return super().represent_scalar(tag, value, style='\"')\n",
    "\n",
    "# Write the dictionary to a YAML file\n",
    "with open(output_file, 'w') as yaml_file:\n",
    "    yaml.dump(file_dict, yaml_file, Dumper=DoubleQuotedDumper, default_flow_style=False, sort_keys=False)\n",
    "\n",
    "# Read the content of the generated YAML file\n",
    "with open(output_file, 'r') as yaml_file:\n",
    "    lines = yaml_file.readlines()\n",
    "\n",
    "# Add a comma after each list\n",
    "with open(output_file, 'w') as yaml_file:\n",
    "    for line in lines:\n",
    "        if line.strip().endswith('[]'):\n",
    "            yaml_file.write(line.strip() + ',\\n')\n",
    "        else:\n",
    "            yaml_file.write(line)\n",
    "\n",
    "print(f'Dictionary has been saved to {output_file}')"
   ]
  },
  {
   "cell_type": "code",
   "execution_count": null,
   "metadata": {},
   "outputs": [],
   "source": []
  }
 ],
 "metadata": {
  "kernelspec": {
   "display_name": "gdrive",
   "language": "python",
   "name": "python3"
  },
  "language_info": {
   "codemirror_mode": {
    "name": "ipython",
    "version": 3
   },
   "file_extension": ".py",
   "mimetype": "text/x-python",
   "name": "python",
   "nbconvert_exporter": "python",
   "pygments_lexer": "ipython3",
   "version": "3.11.5"
  }
 },
 "nbformat": 4,
 "nbformat_minor": 2
}
