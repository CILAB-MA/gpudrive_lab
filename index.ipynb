{
 "cells": [
  {
   "cell_type": "code",
   "execution_count": 1,
   "metadata": {},
   "outputs": [],
   "source": [
    "import json"
   ]
  },
  {
   "cell_type": "code",
   "execution_count": 2,
   "metadata": {},
   "outputs": [],
   "source": [
    "from tqdm import tqdm"
   ]
  },
  {
   "cell_type": "code",
   "execution_count": null,
   "metadata": {},
   "outputs": [],
   "source": [
    "dirpath = '/home/aarav/gpudrive/new_data/data/valid_no_tl'\n",
    "with open(dirpath+'/valid_files.json', 'r') as f:\n",
    "    valid_files = json.load(f)"
   ]
  },
  {
   "cell_type": "code",
   "execution_count": 8,
   "metadata": {},
   "outputs": [],
   "source": [
    "def getRoadTypes(_dict):\n",
    "    road_types = []\n",
    "    for road in _dict['roads']:\n",
    "        road_types.append(road['type'])\n",
    "    return set(road_types)"
   ]
  },
  {
   "cell_type": "code",
   "execution_count": 5,
   "metadata": {},
   "outputs": [],
   "source": [
    "def getAgentTypes(_dict):\n",
    "    agent_types = []\n",
    "    for agent in _dict['objects']:\n",
    "        agent_types.append(agent['type'])\n",
    "    return set(agent_types)"
   ]
  },
  {
   "cell_type": "code",
   "execution_count": 6,
   "metadata": {},
   "outputs": [
    {
     "name": "stderr",
     "output_type": "stream",
     "text": [
      "100%|██████████| 134150/134150 [22:32<00:00, 99.16it/s] "
     ]
    },
    {
     "name": "stdout",
     "output_type": "stream",
     "text": [
      "{'crosswalk', 'stop_sign', 'lane', 'speed_bump', 'road_edge', 'road_line'}\n",
      "{'cyclist', 'vehicle', 'pedestrian'}\n"
     ]
    },
    {
     "name": "stderr",
     "output_type": "stream",
     "text": [
      "\n"
     ]
    }
   ],
   "source": [
    "roadtypes = set()\n",
    "agenttypes = set()\n",
    "for file in tqdm(valid_files):\n",
    "    with open(dirpath+'/'+file, 'r') as f:\n",
    "        _dict = json.load(f)\n",
    "    roadtypes = roadtypes.union(getRoadTypes(_dict))\n",
    "    agenttypes = agenttypes.union(getAgentTypes(_dict))\n",
    "\n",
    "print(roadtypes)\n",
    "print(agenttypes)"
   ]
  },
  {
   "cell_type": "code",
   "execution_count": null,
   "metadata": {},
   "outputs": [],
   "source": []
  }
 ],
 "metadata": {
  "kernelspec": {
   "display_name": "madrona",
   "language": "python",
   "name": "python3"
  },
  "language_info": {
   "codemirror_mode": {
    "name": "ipython",
    "version": 3
   },
   "file_extension": ".py",
   "mimetype": "text/x-python",
   "name": "python",
   "nbconvert_exporter": "python",
   "pygments_lexer": "ipython3",
   "version": "3.11.8"
  }
 },
 "nbformat": 4,
 "nbformat_minor": 2
}
