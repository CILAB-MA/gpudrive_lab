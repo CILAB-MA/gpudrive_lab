{
 "cells": [
  {
   "cell_type": "code",
   "execution_count": 1,
   "metadata": {},
   "outputs": [],
   "source": [
    "import json"
   ]
  },
  {
   "cell_type": "code",
   "execution_count": 2,
   "metadata": {},
   "outputs": [],
   "source": [
    "# f = '/home/aarav/gpudrive/tests/test.json'\n",
    "f = '/home/aarav/gpudrive/nocturne_data/formatted_json_v2_no_tl_valid/tfrecord-00004-of-00150_246.json'"
   ]
  },
  {
   "cell_type": "code",
   "execution_count": 3,
   "metadata": {},
   "outputs": [],
   "source": [
    "with open(f, 'r') as f:\n",
    "    data = json.load(f)"
   ]
  },
  {
   "cell_type": "code",
   "execution_count": 6,
   "metadata": {},
   "outputs": [
    {
     "data": {
      "text/plain": [
       "(42, 49)"
      ]
     },
     "execution_count": 6,
     "metadata": {},
     "output_type": "execute_result"
    }
   ],
   "source": [
    "len(data['objects']), len(data['roads'])"
   ]
  },
  {
   "cell_type": "code",
   "execution_count": 7,
   "metadata": {},
   "outputs": [],
   "source": [
    "max_obj_len = 0\n",
    "max_road_len = 0\n",
    "total_road_len = 0\n",
    "road_types = set()\n",
    "meanx = 0\n",
    "meany = 0\n",
    "num_entities = 0\n",
    "# for i in data['objects']:\n",
    "#     print(len(i['position']))\n",
    "#     if len(i['position']) > max_obj_len:\n",
    "#         max_obj_len = len(i['position'])\n",
    "#     for position in i['position']:\n",
    "#         num_entities += 1\n",
    "#         meanx += (position['x'] - meanx ) / num_entities \n",
    "#         meany += (position['y'] - meany) / num_entities\n",
    "for i in data['roads']:\n",
    "    if len(i['geometry']) > max_road_len:\n",
    "        max_road_len = len(i['geometry'])\n",
    "    for position in i['geometry']:\n",
    "        num_entities += 1\n",
    "        meanx += (position['x'] - meanx ) / num_entities \n",
    "        meany += (position['y'] - meany) / num_entities\n",
    "    total_road_len += len(i['geometry'])\n",
    "    road_types.add(i['type'])"
   ]
  },
  {
   "cell_type": "code",
   "execution_count": 10,
   "metadata": {},
   "outputs": [
    {
     "data": {
      "text/plain": [
       "4474"
      ]
     },
     "execution_count": 10,
     "metadata": {},
     "output_type": "execute_result"
    }
   ],
   "source": [
    "num_entities"
   ]
  },
  {
   "cell_type": "code",
   "execution_count": 50,
   "metadata": {},
   "outputs": [
    {
     "name": "stdout",
     "output_type": "stream",
     "text": [
      "-8.308482560461698 66.02313470376157\n"
     ]
    }
   ],
   "source": [
    "data['roads'][44]\n",
    "xtotal = 0\n",
    "ytotal = 0\n",
    "for point in data['roads'][44]['geometry']:\n",
    "    xtotal += point['x']\n",
    "    ytotal += point['y']\n",
    "\n",
    "print(xtotal/4, ytotal/4)"
   ]
  },
  {
   "cell_type": "code",
   "execution_count": 32,
   "metadata": {},
   "outputs": [
    {
     "name": "stdout",
     "output_type": "stream",
     "text": [
      "50.26399284811584 -30.129325597426835\n"
     ]
    }
   ],
   "source": [
    "totalx = 0\n",
    "meanx = 0\n",
    "totaly = 0\n",
    "meany = 0\n",
    "num_entities = 0\n",
    "for i in data['objects']:\n",
    "    k = 0\n",
    "    for position in i['position']:\n",
    "        if(i['valid'][k] == False):\n",
    "            k+=1\n",
    "            continue\n",
    "        totalx += position['x']\n",
    "        totaly += position['y']\n",
    "        num_entities += 1\n",
    "        k+=1\n",
    "    break\n",
    "meanx = totalx / num_entities\n",
    "meany = totaly / num_entities\n",
    "print(meanx, meany)\n"
   ]
  },
  {
   "cell_type": "code",
   "execution_count": 45,
   "metadata": {},
   "outputs": [
    {
     "name": "stdout",
     "output_type": "stream",
     "text": [
      "-60.91418691534189 -62.563719644040575 156\n"
     ]
    }
   ],
   "source": [
    "totalx = 0\n",
    "meanx = 0\n",
    "totaly = 0\n",
    "meany = 0\n",
    "num_entities = 0\n",
    "\n",
    "k = 0\n",
    "for position in data['roads'][0]['geometry']:\n",
    "    totalx += position['x']\n",
    "    totaly += position['y']\n",
    "    num_entities += 1\n",
    "\n",
    "meanx = totalx / num_entities\n",
    "meany = totaly / num_entities\n",
    "print(meanx, meany, num_entities)\n"
   ]
  },
  {
   "cell_type": "code",
   "execution_count": 30,
   "metadata": {},
   "outputs": [
    {
     "data": {
      "text/plain": [
       "(91, 91)"
      ]
     },
     "execution_count": 30,
     "metadata": {},
     "output_type": "execute_result"
    }
   ],
   "source": [
    "len(data['objects'][0]['position']), len(data['objects'][0]['valid'])"
   ]
  },
  {
   "cell_type": "code",
   "execution_count": 24,
   "metadata": {},
   "outputs": [
    {
     "data": {
      "text/plain": [
       "(-54.09144841542118, 1.5696303134024587)"
      ]
     },
     "execution_count": 24,
     "metadata": {},
     "output_type": "execute_result"
    }
   ],
   "source": [
    "meanx, meany"
   ]
  },
  {
   "cell_type": "code",
   "execution_count": 25,
   "metadata": {},
   "outputs": [
    {
     "data": {
      "text/plain": [
       "4747"
      ]
     },
     "execution_count": 25,
     "metadata": {},
     "output_type": "execute_result"
    }
   ],
   "source": [
    "num_entities"
   ]
  },
  {
   "cell_type": "code",
   "execution_count": 16,
   "metadata": {},
   "outputs": [
    {
     "data": {
      "text/plain": [
       "(91, 91, 91)"
      ]
     },
     "execution_count": 16,
     "metadata": {},
     "output_type": "execute_result"
    }
   ],
   "source": [
    "len(data['objects'][0]['position']), len(data['objects'][1]['position']), len(data['objects'][2]['position'])"
   ]
  },
  {
   "cell_type": "code",
   "execution_count": 5,
   "metadata": {},
   "outputs": [
    {
     "data": {
      "text/plain": [
       "91"
      ]
     },
     "execution_count": 5,
     "metadata": {},
     "output_type": "execute_result"
    }
   ],
   "source": [
    "max_obj_len"
   ]
  },
  {
   "cell_type": "code",
   "execution_count": 17,
   "metadata": {},
   "outputs": [
    {
     "data": {
      "text/plain": [
       "367"
      ]
     },
     "execution_count": 17,
     "metadata": {},
     "output_type": "execute_result"
    }
   ],
   "source": [
    "max_road_len"
   ]
  },
  {
   "cell_type": "code",
   "execution_count": 13,
   "metadata": {},
   "outputs": [
    {
     "data": {
      "text/plain": [
       "49"
      ]
     },
     "execution_count": 13,
     "metadata": {},
     "output_type": "execute_result"
    }
   ],
   "source": [
    "len(data['roads'])"
   ]
  },
  {
   "cell_type": "code",
   "execution_count": 21,
   "metadata": {},
   "outputs": [
    {
     "data": {
      "text/plain": [
       "{'lane', 'road_edge', 'road_line', 'speed_bump', 'stop_sign'}"
      ]
     },
     "execution_count": 21,
     "metadata": {},
     "output_type": "execute_result"
    }
   ],
   "source": [
    "road_types"
   ]
  },
  {
   "cell_type": "code",
   "execution_count": 22,
   "metadata": {},
   "outputs": [
    {
     "data": {
      "text/plain": [
       "156"
      ]
     },
     "execution_count": 22,
     "metadata": {},
     "output_type": "execute_result"
    }
   ],
   "source": [
    "len(data['roads'][0]['geometry'])"
   ]
  },
  {
   "cell_type": "code",
   "execution_count": null,
   "metadata": {},
   "outputs": [],
   "source": []
  }
 ],
 "metadata": {
  "kernelspec": {
   "display_name": "madrona",
   "language": "python",
   "name": "python3"
  },
  "language_info": {
   "codemirror_mode": {
    "name": "ipython",
    "version": 3
   },
   "file_extension": ".py",
   "mimetype": "text/x-python",
   "name": "python",
   "nbconvert_exporter": "python",
   "pygments_lexer": "ipython3",
   "version": "3.11.5"
  }
 },
 "nbformat": 4,
 "nbformat_minor": 2
}
